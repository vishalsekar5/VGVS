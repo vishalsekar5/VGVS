{
 "cells": [
  {
   "cell_type": "code",
   "execution_count": 2,
   "metadata": {
    "id": "3CH_jl8i3pNq"
   },
   "outputs": [],
   "source": [
    "from sklearn.datasets import load_breast_cancer\n",
    "Data=load_breast_cancer()"
   ]
  },
  {
   "cell_type": "code",
   "execution_count": 3,
   "metadata": {
    "colab": {
     "base_uri": "https://localhost:8080/"
    },
    "id": "aIK1h0xb5Jkz",
    "outputId": "a8fc1526-529b-4e89-96be-fe46dbec1bfe"
   },
   "outputs": [
    {
     "name": "stdout",
     "output_type": "stream",
     "text": [
      ".. _breast_cancer_dataset:\n",
      "\n",
      "Breast cancer wisconsin (diagnostic) dataset\n",
      "--------------------------------------------\n",
      "\n",
      "**Data Set Characteristics:**\n",
      "\n",
      "    :Number of Instances: 569\n",
      "\n",
      "    :Number of Attributes: 30 numeric, predictive attributes and the class\n",
      "\n",
      "    :Attribute Information:\n",
      "        - radius (mean of distances from center to points on the perimeter)\n",
      "        - texture (standard deviation of gray-scale values)\n",
      "        - perimeter\n",
      "        - area\n",
      "        - smoothness (local variation in radius lengths)\n",
      "        - compactness (perimeter^2 / area - 1.0)\n",
      "        - concavity (severity of concave portions of the contour)\n",
      "        - concave points (number of concave portions of the contour)\n",
      "        - symmetry \n",
      "        - fractal dimension (\"coastline approximation\" - 1)\n",
      "\n",
      "        The mean, standard error, and \"worst\" or largest (mean of the three\n",
      "        largest values) of these features were computed for each image,\n",
      "        resulting in 30 features.  For instance, field 3 is Mean Radius, field\n",
      "        13 is Radius SE, field 23 is Worst Radius.\n",
      "\n",
      "        - class:\n",
      "                - WDBC-Malignant\n",
      "                - WDBC-Benign\n",
      "\n",
      "    :Summary Statistics:\n",
      "\n",
      "    ===================================== ====== ======\n",
      "                                           Min    Max\n",
      "    ===================================== ====== ======\n",
      "    radius (mean):                        6.981  28.11\n",
      "    texture (mean):                       9.71   39.28\n",
      "    perimeter (mean):                     43.79  188.5\n",
      "    area (mean):                          143.5  2501.0\n",
      "    smoothness (mean):                    0.053  0.163\n",
      "    compactness (mean):                   0.019  0.345\n",
      "    concavity (mean):                     0.0    0.427\n",
      "    concave points (mean):                0.0    0.201\n",
      "    symmetry (mean):                      0.106  0.304\n",
      "    fractal dimension (mean):             0.05   0.097\n",
      "    radius (standard error):              0.112  2.873\n",
      "    texture (standard error):             0.36   4.885\n",
      "    perimeter (standard error):           0.757  21.98\n",
      "    area (standard error):                6.802  542.2\n",
      "    smoothness (standard error):          0.002  0.031\n",
      "    compactness (standard error):         0.002  0.135\n",
      "    concavity (standard error):           0.0    0.396\n",
      "    concave points (standard error):      0.0    0.053\n",
      "    symmetry (standard error):            0.008  0.079\n",
      "    fractal dimension (standard error):   0.001  0.03\n",
      "    radius (worst):                       7.93   36.04\n",
      "    texture (worst):                      12.02  49.54\n",
      "    perimeter (worst):                    50.41  251.2\n",
      "    area (worst):                         185.2  4254.0\n",
      "    smoothness (worst):                   0.071  0.223\n",
      "    compactness (worst):                  0.027  1.058\n",
      "    concavity (worst):                    0.0    1.252\n",
      "    concave points (worst):               0.0    0.291\n",
      "    symmetry (worst):                     0.156  0.664\n",
      "    fractal dimension (worst):            0.055  0.208\n",
      "    ===================================== ====== ======\n",
      "\n",
      "    :Missing Attribute Values: None\n",
      "\n",
      "    :Class Distribution: 212 - Malignant, 357 - Benign\n",
      "\n",
      "    :Creator:  Dr. William H. Wolberg, W. Nick Street, Olvi L. Mangasarian\n",
      "\n",
      "    :Donor: Nick Street\n",
      "\n",
      "    :Date: November, 1995\n",
      "\n",
      "This is a copy of UCI ML Breast Cancer Wisconsin (Diagnostic) datasets.\n",
      "https://goo.gl/U2Uwz2\n",
      "\n",
      "Features are computed from a digitized image of a fine needle\n",
      "aspirate (FNA) of a breast mass.  They describe\n",
      "characteristics of the cell nuclei present in the image.\n",
      "\n",
      "Separating plane described above was obtained using\n",
      "Multisurface Method-Tree (MSM-T) [K. P. Bennett, \"Decision Tree\n",
      "Construction Via Linear Programming.\" Proceedings of the 4th\n",
      "Midwest Artificial Intelligence and Cognitive Science Society,\n",
      "pp. 97-101, 1992], a classification method which uses linear\n",
      "programming to construct a decision tree.  Relevant features\n",
      "were selected using an exhaustive search in the space of 1-4\n",
      "features and 1-3 separating planes.\n",
      "\n",
      "The actual linear program used to obtain the separating plane\n",
      "in the 3-dimensional space is that described in:\n",
      "[K. P. Bennett and O. L. Mangasarian: \"Robust Linear\n",
      "Programming Discrimination of Two Linearly Inseparable Sets\",\n",
      "Optimization Methods and Software 1, 1992, 23-34].\n",
      "\n",
      "This database is also available through the UW CS ftp server:\n",
      "\n",
      "ftp ftp.cs.wisc.edu\n",
      "cd math-prog/cpo-dataset/machine-learn/WDBC/\n",
      "\n",
      ".. topic:: References\n",
      "\n",
      "   - W.N. Street, W.H. Wolberg and O.L. Mangasarian. Nuclear feature extraction \n",
      "     for breast tumor diagnosis. IS&T/SPIE 1993 International Symposium on \n",
      "     Electronic Imaging: Science and Technology, volume 1905, pages 861-870,\n",
      "     San Jose, CA, 1993.\n",
      "   - O.L. Mangasarian, W.N. Street and W.H. Wolberg. Breast cancer diagnosis and \n",
      "     prognosis via linear programming. Operations Research, 43(4), pages 570-577, \n",
      "     July-August 1995.\n",
      "   - W.H. Wolberg, W.N. Street, and O.L. Mangasarian. Machine learning techniques\n",
      "     to diagnose breast cancer from fine-needle aspirates. Cancer Letters 77 (1994) \n",
      "     163-171.\n"
     ]
    }
   ],
   "source": [
    "print(Data.DESCR)"
   ]
  },
  {
   "cell_type": "code",
   "execution_count": 4,
   "metadata": {
    "id": "AMfeLeuJ5run"
   },
   "outputs": [],
   "source": [
    "features=Data.data\n",
    "target=Data.target"
   ]
  },
  {
   "cell_type": "code",
   "execution_count": 5,
   "metadata": {
    "colab": {
     "base_uri": "https://localhost:8080/"
    },
    "id": "TTbueKVU6EDn",
    "outputId": "48bfc4c0-820c-4ba3-f6e2-c108a20d2da2"
   },
   "outputs": [
    {
     "name": "stdout",
     "output_type": "stream",
     "text": [
      "(569, 30)\n",
      "(569,)\n"
     ]
    }
   ],
   "source": [
    "print(features.shape)\n",
    "print(target.shape)"
   ]
  },
  {
   "cell_type": "code",
   "execution_count": 7,
   "metadata": {
    "id": "mWeNHkeN6grv"
   },
   "outputs": [],
   "source": [
    "from sklearn.model_selection import train_test_split\n",
    "X_train,X_test,y_train,y_test=train_test_split(features,target,test_size=0.2)"
   ]
  },
  {
   "cell_type": "code",
   "execution_count": 8,
   "metadata": {
    "colab": {
     "base_uri": "https://localhost:8080/"
    },
    "id": "VdUvtbgj8KnI",
    "outputId": "34d517bb-0164-4737-d8f3-a05ac5d12a84"
   },
   "outputs": [
    {
     "name": "stdout",
     "output_type": "stream",
     "text": [
      "(455, 30)\n",
      "(455,)\n",
      "(114, 30)\n",
      "(114,)\n"
     ]
    }
   ],
   "source": [
    "print(X_train.shape)\n",
    "print(y_train.shape)\n",
    "print(X_test.shape)\n",
    "print(y_test.shape)"
   ]
  },
  {
   "cell_type": "code",
   "execution_count": 9,
   "metadata": {
    "id": "6iA4yTa18tWu"
   },
   "outputs": [],
   "source": [
    "from keras.models import Sequential\n",
    "from keras.layers import Dense"
   ]
  },
  {
   "cell_type": "code",
   "execution_count": 10,
   "metadata": {
    "id": "jh15ky1-3rEC"
   },
   "outputs": [],
   "source": [
    "model=Sequential()\n",
    "model.add(Dense(32,input_dim=30,activation='relu'))\n",
    "model.add(Dense(64,activation='relu'))\n",
    "model.add(Dense(1,activation='sigmoid'))"
   ]
  },
  {
   "cell_type": "code",
   "execution_count": 11,
   "metadata": {
    "id": "d3aaq1lKGqqA"
   },
   "outputs": [],
   "source": [
    "model.compile(loss='binary_crossentropy',optimizer='adam',metrics=['accuracy'])"
   ]
  },
  {
   "cell_type": "code",
   "execution_count": 13,
   "metadata": {
    "colab": {
     "base_uri": "https://localhost:8080/"
    },
    "id": "NB4iCyDGIhRR",
    "outputId": "13bf0f87-60f8-426d-cd5d-11665453be62"
   },
   "outputs": [
    {
     "name": "stdout",
     "output_type": "stream",
     "text": [
      "Model: \"sequential\"\n",
      "_________________________________________________________________\n",
      "Layer (type)                 Output Shape              Param #   \n",
      "=================================================================\n",
      "dense (Dense)                (None, 32)                992       \n",
      "_________________________________________________________________\n",
      "dense_1 (Dense)              (None, 64)                2112      \n",
      "_________________________________________________________________\n",
      "dense_2 (Dense)              (None, 1)                 65        \n",
      "=================================================================\n",
      "Total params: 3,169\n",
      "Trainable params: 3,169\n",
      "Non-trainable params: 0\n",
      "_________________________________________________________________\n"
     ]
    }
   ],
   "source": [
    "model.summary()"
   ]
  },
  {
   "cell_type": "code",
   "execution_count": 19,
   "metadata": {
    "colab": {
     "base_uri": "https://localhost:8080/"
    },
    "id": "933EoCebJFPG",
    "outputId": "4a14feb5-2f31-4dee-d01b-a60001adaf22"
   },
   "outputs": [
    {
     "name": "stdout",
     "output_type": "stream",
     "text": [
      "Epoch 1/50\n",
      "15/15 [==============================] - 0s 2ms/step - loss: 0.2343 - accuracy: 0.9165\n",
      "Epoch 2/50\n",
      "15/15 [==============================] - 0s 2ms/step - loss: 0.1706 - accuracy: 0.9407\n",
      "Epoch 3/50\n",
      "15/15 [==============================] - 0s 2ms/step - loss: 0.3031 - accuracy: 0.8967\n",
      "Epoch 4/50\n",
      "15/15 [==============================] - 0s 2ms/step - loss: 0.4294 - accuracy: 0.9099\n",
      "Epoch 5/50\n",
      "15/15 [==============================] - 0s 2ms/step - loss: 0.2238 - accuracy: 0.9275\n",
      "Epoch 6/50\n",
      "15/15 [==============================] - 0s 2ms/step - loss: 0.2134 - accuracy: 0.9319\n",
      "Epoch 7/50\n",
      "15/15 [==============================] - 0s 2ms/step - loss: 0.1838 - accuracy: 0.9385\n",
      "Epoch 8/50\n",
      "15/15 [==============================] - 0s 2ms/step - loss: 0.1628 - accuracy: 0.9538\n",
      "Epoch 9/50\n",
      "15/15 [==============================] - 0s 2ms/step - loss: 0.3954 - accuracy: 0.8769\n",
      "Epoch 10/50\n",
      "15/15 [==============================] - 0s 2ms/step - loss: 0.3584 - accuracy: 0.8923\n",
      "Epoch 11/50\n",
      "15/15 [==============================] - 0s 2ms/step - loss: 0.3068 - accuracy: 0.9165\n",
      "Epoch 12/50\n",
      "15/15 [==============================] - 0s 3ms/step - loss: 0.1968 - accuracy: 0.9297\n",
      "Epoch 13/50\n",
      "15/15 [==============================] - 0s 2ms/step - loss: 0.2269 - accuracy: 0.9209\n",
      "Epoch 14/50\n",
      "15/15 [==============================] - 0s 2ms/step - loss: 0.2613 - accuracy: 0.9231\n",
      "Epoch 15/50\n",
      "15/15 [==============================] - 0s 2ms/step - loss: 0.2182 - accuracy: 0.9319\n",
      "Epoch 16/50\n",
      "15/15 [==============================] - 0s 2ms/step - loss: 0.1716 - accuracy: 0.9319\n",
      "Epoch 17/50\n",
      "15/15 [==============================] - 0s 2ms/step - loss: 0.2666 - accuracy: 0.9187\n",
      "Epoch 18/50\n",
      "15/15 [==============================] - 0s 2ms/step - loss: 0.2839 - accuracy: 0.9165\n",
      "Epoch 19/50\n",
      "15/15 [==============================] - 0s 2ms/step - loss: 0.1957 - accuracy: 0.9297\n",
      "Epoch 20/50\n",
      "15/15 [==============================] - 0s 2ms/step - loss: 0.1537 - accuracy: 0.9495\n",
      "Epoch 21/50\n",
      "15/15 [==============================] - 0s 2ms/step - loss: 0.2002 - accuracy: 0.9253\n",
      "Epoch 22/50\n",
      "15/15 [==============================] - 0s 2ms/step - loss: 0.1765 - accuracy: 0.9253\n",
      "Epoch 23/50\n",
      "15/15 [==============================] - 0s 2ms/step - loss: 0.1470 - accuracy: 0.9473\n",
      "Epoch 24/50\n",
      "15/15 [==============================] - 0s 2ms/step - loss: 0.1437 - accuracy: 0.9473\n",
      "Epoch 25/50\n",
      "15/15 [==============================] - 0s 2ms/step - loss: 0.2516 - accuracy: 0.9231\n",
      "Epoch 26/50\n",
      "15/15 [==============================] - 0s 2ms/step - loss: 0.1778 - accuracy: 0.9297\n",
      "Epoch 27/50\n",
      "15/15 [==============================] - 0s 3ms/step - loss: 0.1878 - accuracy: 0.9341\n",
      "Epoch 28/50\n",
      "15/15 [==============================] - 0s 2ms/step - loss: 0.2137 - accuracy: 0.9231\n",
      "Epoch 29/50\n",
      "15/15 [==============================] - 0s 2ms/step - loss: 0.1476 - accuracy: 0.9473\n",
      "Epoch 30/50\n",
      "15/15 [==============================] - 0s 2ms/step - loss: 0.1794 - accuracy: 0.9297\n",
      "Epoch 31/50\n",
      "15/15 [==============================] - 0s 2ms/step - loss: 0.2524 - accuracy: 0.9099\n",
      "Epoch 32/50\n",
      "15/15 [==============================] - 0s 2ms/step - loss: 0.1787 - accuracy: 0.9341\n",
      "Epoch 33/50\n",
      "15/15 [==============================] - 0s 2ms/step - loss: 0.1832 - accuracy: 0.9341\n",
      "Epoch 34/50\n",
      "15/15 [==============================] - 0s 2ms/step - loss: 0.1231 - accuracy: 0.9516\n",
      "Epoch 35/50\n",
      "15/15 [==============================] - 0s 2ms/step - loss: 0.2208 - accuracy: 0.9121\n",
      "Epoch 36/50\n",
      "15/15 [==============================] - 0s 3ms/step - loss: 0.5246 - accuracy: 0.8703\n",
      "Epoch 37/50\n",
      "15/15 [==============================] - 0s 2ms/step - loss: 0.2001 - accuracy: 0.9209\n",
      "Epoch 38/50\n",
      "15/15 [==============================] - 0s 3ms/step - loss: 0.1463 - accuracy: 0.9516\n",
      "Epoch 39/50\n",
      "15/15 [==============================] - 0s 2ms/step - loss: 0.1422 - accuracy: 0.9407\n",
      "Epoch 40/50\n",
      "15/15 [==============================] - 0s 2ms/step - loss: 0.2143 - accuracy: 0.9275\n",
      "Epoch 41/50\n",
      "15/15 [==============================] - 0s 2ms/step - loss: 0.1978 - accuracy: 0.9187\n",
      "Epoch 42/50\n",
      "15/15 [==============================] - 0s 2ms/step - loss: 0.2478 - accuracy: 0.9187\n",
      "Epoch 43/50\n",
      "15/15 [==============================] - 0s 2ms/step - loss: 0.2613 - accuracy: 0.9187\n",
      "Epoch 44/50\n",
      "15/15 [==============================] - 0s 2ms/step - loss: 0.2759 - accuracy: 0.9099\n",
      "Epoch 45/50\n",
      "15/15 [==============================] - 0s 2ms/step - loss: 0.3043 - accuracy: 0.9165\n",
      "Epoch 46/50\n",
      "15/15 [==============================] - 0s 2ms/step - loss: 0.1465 - accuracy: 0.9473\n",
      "Epoch 47/50\n",
      "15/15 [==============================] - 0s 2ms/step - loss: 0.1467 - accuracy: 0.9363\n",
      "Epoch 48/50\n",
      "15/15 [==============================] - 0s 2ms/step - loss: 0.8307 - accuracy: 0.8242\n",
      "Epoch 49/50\n",
      "15/15 [==============================] - 0s 2ms/step - loss: 0.9045 - accuracy: 0.8352\n",
      "Epoch 50/50\n",
      "15/15 [==============================] - 0s 2ms/step - loss: 0.3137 - accuracy: 0.9187\n"
     ]
    },
    {
     "data": {
      "text/plain": [
       "<keras.callbacks.History at 0x7fc1a2684fd0>"
      ]
     },
     "execution_count": 19,
     "metadata": {
      "tags": []
     },
     "output_type": "execute_result"
    }
   ],
   "source": [
    "model.fit(X_train,y_train,epochs=50)"
   ]
  },
  {
   "cell_type": "code",
   "execution_count": 20,
   "metadata": {
    "colab": {
     "base_uri": "https://localhost:8080/"
    },
    "id": "yT4m1qc_Jx0z",
    "outputId": "9bf0b2d6-770d-4c8f-90e0-3ac4c03fca45"
   },
   "outputs": [
    {
     "name": "stdout",
     "output_type": "stream",
     "text": [
      "4/4 [==============================] - 1s 3ms/step - loss: 0.2672 - accuracy: 0.9386\n",
      "[0.26716023683547974, 0.9385964870452881]\n"
     ]
    }
   ],
   "source": [
    "scores=model.evaluate(X_test,y_test)\n",
    "print(scores)"
   ]
  },
  {
   "cell_type": "code",
   "execution_count": 22,
   "metadata": {
    "colab": {
     "base_uri": "https://localhost:8080/"
    },
    "id": "wu4eipxmLA6d",
    "outputId": "07380a76-a1aa-4244-d36b-3a235fb77287"
   },
   "outputs": [
    {
     "name": "stdout",
     "output_type": "stream",
     "text": [
      "Malignent\n",
      "Malignent\n",
      "Malignent\n",
      "Malignent\n",
      "Malignent\n",
      "Malignent\n",
      "Benign\n",
      "Malignent\n",
      "Malignent\n",
      "Benign\n",
      "Malignent\n",
      "Malignent\n",
      "Malignent\n",
      "Benign\n",
      "Malignent\n",
      "Benign\n",
      "Malignent\n",
      "Benign\n",
      "Benign\n",
      "Malignent\n",
      "Malignent\n",
      "Benign\n",
      "Malignent\n",
      "Benign\n",
      "Malignent\n",
      "Malignent\n",
      "Malignent\n",
      "Benign\n",
      "Malignent\n",
      "Malignent\n",
      "Malignent\n",
      "Benign\n",
      "Malignent\n",
      "Malignent\n",
      "Benign\n",
      "Benign\n",
      "Malignent\n",
      "Malignent\n",
      "Malignent\n",
      "Benign\n",
      "Benign\n",
      "Benign\n",
      "Malignent\n",
      "Benign\n",
      "Malignent\n",
      "Malignent\n",
      "Malignent\n",
      "Benign\n",
      "Malignent\n",
      "Malignent\n",
      "Malignent\n",
      "Benign\n",
      "Benign\n",
      "Benign\n",
      "Malignent\n",
      "Malignent\n",
      "Malignent\n",
      "Benign\n",
      "Malignent\n",
      "Malignent\n",
      "Malignent\n",
      "Benign\n",
      "Malignent\n",
      "Benign\n",
      "Malignent\n",
      "Malignent\n",
      "Benign\n",
      "Malignent\n",
      "Malignent\n",
      "Malignent\n",
      "Malignent\n",
      "Malignent\n",
      "Malignent\n",
      "Malignent\n",
      "Malignent\n",
      "Malignent\n",
      "Malignent\n",
      "Benign\n",
      "Malignent\n",
      "Benign\n",
      "Benign\n",
      "Malignent\n",
      "Malignent\n",
      "Malignent\n",
      "Benign\n",
      "Benign\n",
      "Malignent\n",
      "Malignent\n",
      "Malignent\n",
      "Malignent\n",
      "Malignent\n",
      "Benign\n",
      "Benign\n",
      "Malignent\n",
      "Benign\n",
      "Benign\n",
      "Benign\n",
      "Malignent\n",
      "Malignent\n",
      "Malignent\n",
      "Malignent\n",
      "Malignent\n",
      "Benign\n",
      "Malignent\n",
      "Malignent\n",
      "Malignent\n",
      "Malignent\n",
      "Malignent\n",
      "Malignent\n",
      "Benign\n",
      "Malignent\n",
      "Malignent\n",
      "Malignent\n",
      "Malignent\n"
     ]
    }
   ],
   "source": [
    "predictions=model.predict(X_test)\n",
    "label=[]\n",
    "for pred in predictions:\n",
    "  if pred>=0.5:\n",
    "    print(\"Malignent\")\n",
    "  else:\n",
    "    print(\"Benign\")\n",
    "      "
   ]
  }
 ],
 "metadata": {
  "colab": {
   "collapsed_sections": [],
   "name": "Welcome To Colaboratory",
   "provenance": [],
   "toc_visible": true
  },
  "kernelspec": {
   "display_name": "Python 3",
   "language": "python",
   "name": "python3"
  },
  "language_info": {
   "codemirror_mode": {
    "name": "ipython",
    "version": 3
   },
   "file_extension": ".py",
   "mimetype": "text/x-python",
   "name": "python",
   "nbconvert_exporter": "python",
   "pygments_lexer": "ipython3",
   "version": "3.8.5"
  }
 },
 "nbformat": 4,
 "nbformat_minor": 1
}
